{
 "cells": [
  {
   "cell_type": "code",
   "execution_count": 1,
   "id": "cb5b2e73",
   "metadata": {},
   "outputs": [],
   "source": [
    "%load_ext autoreload\n",
    "%autoreload 2"
   ]
  },
  {
   "cell_type": "code",
   "execution_count": 2,
   "id": "11d762aa",
   "metadata": {},
   "outputs": [],
   "source": [
    "import pandas as pd"
   ]
  },
  {
   "cell_type": "markdown",
   "id": "26c61bdb",
   "metadata": {},
   "source": [
    "### check data"
   ]
  },
  {
   "cell_type": "code",
   "execution_count": 3,
   "id": "9add3d37",
   "metadata": {},
   "outputs": [],
   "source": [
    "raw_data = pd.read_parquet(\"data/driver_stats.parquet\")"
   ]
  },
  {
   "cell_type": "code",
   "execution_count": 6,
   "id": "215c30c5",
   "metadata": {},
   "outputs": [
    {
     "data": {
      "text/html": [
       "<div>\n",
       "<style scoped>\n",
       "    .dataframe tbody tr th:only-of-type {\n",
       "        vertical-align: middle;\n",
       "    }\n",
       "\n",
       "    .dataframe tbody tr th {\n",
       "        vertical-align: top;\n",
       "    }\n",
       "\n",
       "    .dataframe thead th {\n",
       "        text-align: right;\n",
       "    }\n",
       "</style>\n",
       "<table border=\"1\" class=\"dataframe\">\n",
       "  <thead>\n",
       "    <tr style=\"text-align: right;\">\n",
       "      <th></th>\n",
       "      <th>event_timestamp</th>\n",
       "      <th>driver_id</th>\n",
       "      <th>conv_rate</th>\n",
       "      <th>acc_rate</th>\n",
       "      <th>avg_daily_trips</th>\n",
       "      <th>created</th>\n",
       "    </tr>\n",
       "  </thead>\n",
       "  <tbody>\n",
       "    <tr>\n",
       "      <th>0</th>\n",
       "      <td>2025-07-09 08:00:00+00:00</td>\n",
       "      <td>1005</td>\n",
       "      <td>0.336580</td>\n",
       "      <td>0.638318</td>\n",
       "      <td>148</td>\n",
       "      <td>2025-07-24 08:45:55.872</td>\n",
       "    </tr>\n",
       "    <tr>\n",
       "      <th>1</th>\n",
       "      <td>2025-07-09 09:00:00+00:00</td>\n",
       "      <td>1005</td>\n",
       "      <td>0.789334</td>\n",
       "      <td>0.814022</td>\n",
       "      <td>470</td>\n",
       "      <td>2025-07-24 08:45:55.872</td>\n",
       "    </tr>\n",
       "    <tr>\n",
       "      <th>2</th>\n",
       "      <td>2025-07-09 10:00:00+00:00</td>\n",
       "      <td>1005</td>\n",
       "      <td>0.559947</td>\n",
       "      <td>0.065418</td>\n",
       "      <td>329</td>\n",
       "      <td>2025-07-24 08:45:55.872</td>\n",
       "    </tr>\n",
       "    <tr>\n",
       "      <th>3</th>\n",
       "      <td>2025-07-09 11:00:00+00:00</td>\n",
       "      <td>1005</td>\n",
       "      <td>0.879782</td>\n",
       "      <td>0.017296</td>\n",
       "      <td>644</td>\n",
       "      <td>2025-07-24 08:45:55.872</td>\n",
       "    </tr>\n",
       "    <tr>\n",
       "      <th>4</th>\n",
       "      <td>2025-07-09 12:00:00+00:00</td>\n",
       "      <td>1005</td>\n",
       "      <td>0.629138</td>\n",
       "      <td>0.777095</td>\n",
       "      <td>305</td>\n",
       "      <td>2025-07-24 08:45:55.872</td>\n",
       "    </tr>\n",
       "  </tbody>\n",
       "</table>\n",
       "</div>"
      ],
      "text/plain": [
       "            event_timestamp  driver_id  conv_rate  acc_rate  avg_daily_trips  \\\n",
       "0 2025-07-09 08:00:00+00:00       1005   0.336580  0.638318              148   \n",
       "1 2025-07-09 09:00:00+00:00       1005   0.789334  0.814022              470   \n",
       "2 2025-07-09 10:00:00+00:00       1005   0.559947  0.065418              329   \n",
       "3 2025-07-09 11:00:00+00:00       1005   0.879782  0.017296              644   \n",
       "4 2025-07-09 12:00:00+00:00       1005   0.629138  0.777095              305   \n",
       "\n",
       "                  created  \n",
       "0 2025-07-24 08:45:55.872  \n",
       "1 2025-07-24 08:45:55.872  \n",
       "2 2025-07-24 08:45:55.872  \n",
       "3 2025-07-24 08:45:55.872  \n",
       "4 2025-07-24 08:45:55.872  "
      ]
     },
     "execution_count": 6,
     "metadata": {},
     "output_type": "execute_result"
    }
   ],
   "source": [
    "raw_data.head()"
   ]
  },
  {
   "cell_type": "markdown",
   "id": "2c98eb33",
   "metadata": {},
   "source": [
    "### fetch data from feature store"
   ]
  },
  {
   "cell_type": "code",
   "execution_count": 11,
   "id": "d1af5efa",
   "metadata": {},
   "outputs": [],
   "source": [
    "from feast import FeatureStore\n",
    "from test_workflow import fetch_historical_features_entity_df"
   ]
  },
  {
   "cell_type": "code",
   "execution_count": 12,
   "id": "ebb0cc38",
   "metadata": {},
   "outputs": [],
   "source": [
    "store = FeatureStore(repo_path=\".\")"
   ]
  },
  {
   "cell_type": "code",
   "execution_count": 18,
   "id": "57fb7aa0",
   "metadata": {},
   "outputs": [
    {
     "name": "stdout",
     "output_type": "stream",
     "text": [
      "   driver_id                  event_timestamp  \\\n",
      "0       1003 2025-07-24 18:06:52.362398+00:00   \n",
      "1       1002 2025-07-24 18:06:52.362398+00:00   \n",
      "2       1001 2025-07-24 18:06:52.362398+00:00   \n",
      "\n",
      "   label_driver_reported_satisfaction  val_to_add  val_to_add_2  conv_rate  \\\n",
      "0                                   3           3            30   0.538769   \n",
      "1                                   5           2            20   0.736708   \n",
      "2                                   1           1            10   1.000000   \n",
      "\n",
      "   acc_rate  avg_daily_trips  conv_rate_plus_val1  conv_rate_plus_val2  \n",
      "0  0.638203              891             3.538769            30.538769  \n",
      "1  0.875796              454             2.736708            20.736708  \n",
      "2  1.000000             1000             2.000000            11.000000  \n"
     ]
    }
   ],
   "source": [
    "fetch_historical_features_entity_df(store=store, for_batch_scoring=True)"
   ]
  },
  {
   "cell_type": "code",
   "execution_count": 21,
   "id": "72136de5",
   "metadata": {},
   "outputs": [
    {
     "data": {
      "text/plain": [
       "{'driver_id': [1001],\n",
       " 'conv_rate': [1.0],\n",
       " 'avg_daily_trips': [1000],\n",
       " 'acc_rate': [1.0]}"
      ]
     },
     "execution_count": 21,
     "metadata": {},
     "output_type": "execute_result"
    }
   ],
   "source": [
    "store.get_online_features(\n",
    "    features=[\n",
    "        \"driver_hourly_stats:conv_rate\",\n",
    "        \"driver_hourly_stats:acc_rate\",\n",
    "        \"driver_hourly_stats:avg_daily_trips\",\n",
    "    ],\n",
    "    entity_rows=[\n",
    "        # {join_key: entity_value}\n",
    "        {\"driver_id\": 1001},\n",
    "    ],\n",
    ").to_dict()"
   ]
  }
 ],
 "metadata": {
  "kernelspec": {
   "display_name": ".venv",
   "language": "python",
   "name": "python3"
  },
  "language_info": {
   "codemirror_mode": {
    "name": "ipython",
    "version": 3
   },
   "file_extension": ".py",
   "mimetype": "text/x-python",
   "name": "python",
   "nbconvert_exporter": "python",
   "pygments_lexer": "ipython3",
   "version": "3.12.7"
  }
 },
 "nbformat": 4,
 "nbformat_minor": 5
}
