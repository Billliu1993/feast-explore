{
 "cells": [
  {
   "cell_type": "code",
   "execution_count": 1,
   "id": "a4a86c43",
   "metadata": {},
   "outputs": [],
   "source": [
    "%load_ext autoreload\n",
    "%autoreload 2"
   ]
  },
  {
   "cell_type": "code",
   "execution_count": 2,
   "id": "085e1a6a",
   "metadata": {},
   "outputs": [],
   "source": [
    "import pandas as pd"
   ]
  },
  {
   "cell_type": "code",
   "execution_count": null,
   "id": "6d8f1500",
   "metadata": {},
   "outputs": [],
   "source": [
    "df = pd.read_parquet(\"./feature_repo/data/docling_samples.parquet\")"
   ]
  },
  {
   "cell_type": "code",
   "execution_count": 4,
   "id": "b31b574c",
   "metadata": {},
   "outputs": [
    {
     "data": {
      "text/plain": [
       "384"
      ]
     },
     "execution_count": 4,
     "metadata": {},
     "output_type": "execute_result"
    }
   ],
   "source": [
    "len(df['chunk_embedding'].values[0])"
   ]
  },
  {
   "cell_type": "code",
   "execution_count": null,
   "id": "62317fb6",
   "metadata": {},
   "outputs": [],
   "source": [
    "from feast import FeatureStore\n",
    "\n",
    "store = FeatureStore(repo_path=\"./feature_repo\")"
   ]
  },
  {
   "cell_type": "code",
   "execution_count": 9,
   "id": "43665444",
   "metadata": {},
   "outputs": [
    {
     "name": "stdout",
     "output_type": "stream",
     "text": [
      "embedding length = 384\n",
      "Connecting to Milvus in local mode using feature_repo/data/online_store.db\n",
      "batch ingestion done\n"
     ]
    }
   ],
   "source": [
    "embedding_length = len(df['chunk_embedding'].values[0])\n",
    "print(f'embedding length = {embedding_length}')\n",
    "df['created'] = pd.Timestamp.now()\n",
    "\n",
    "# Ingesting transformed data to the feature view that has no associated transformation\n",
    "store.write_to_online_store(feature_view_name='docling_feature_view', df=df)\n",
    "\n",
    "print('batch ingestion done')"
   ]
  },
  {
   "cell_type": "code",
   "execution_count": null,
   "id": "0d97113b",
   "metadata": {},
   "outputs": [],
   "source": [
    "from feature_repo.feature_repo import embed_text"
   ]
  },
  {
   "cell_type": "code",
   "execution_count": null,
   "id": "ea2acfbd",
   "metadata": {},
   "outputs": [],
   "source": [
    "query_text = \"Who is Ahmed Nassar?\"\n",
    "query_embedding = embed_text(query_text)"
   ]
  },
  {
   "cell_type": "code",
   "execution_count": null,
   "id": "875f8d64",
   "metadata": {},
   "outputs": [],
   "source": [
    "# Retrieve top k documents\n",
    "context_data = store.retrieve_online_documents_v2(\n",
    "    features=[\n",
    "        \"docling_feature_view:vector\",\n",
    "        \"docling_feature_view:file_name\",\n",
    "        \"docling_feature_view:raw_chunk_markdown\",\n",
    "        \"docling_feature_view:chunk_id\",\n",
    "    ],\n",
    "    query=query_embedding,\n",
    "    top_k=3,\n",
    "    distance_metric='COSINE',\n",
    ").to_df()"
   ]
  },
  {
   "cell_type": "code",
   "execution_count": 8,
   "id": "5d1f37ff",
   "metadata": {},
   "outputs": [
    {
     "data": {
      "text/html": [
       "<div>\n",
       "<style scoped>\n",
       "    .dataframe tbody tr th:only-of-type {\n",
       "        vertical-align: middle;\n",
       "    }\n",
       "\n",
       "    .dataframe tbody tr th {\n",
       "        vertical-align: top;\n",
       "    }\n",
       "\n",
       "    .dataframe thead th {\n",
       "        text-align: right;\n",
       "    }\n",
       "</style>\n",
       "<table border=\"1\" class=\"dataframe\">\n",
       "  <thead>\n",
       "    <tr style=\"text-align: right;\">\n",
       "      <th></th>\n",
       "      <th>vector</th>\n",
       "      <th>file_name</th>\n",
       "      <th>raw_chunk_markdown</th>\n",
       "      <th>distance</th>\n",
       "    </tr>\n",
       "  </thead>\n",
       "  <tbody>\n",
       "    <tr>\n",
       "      <th>0</th>\n",
       "      <td>[0.056698862463235855, 0.062439583241939545, -...</td>\n",
       "      <td>2305.03393v1</td>\n",
       "      <td>References\\n- 8. Livathinos, N., Berrospi, C.,...</td>\n",
       "      <td>0.419530</td>\n",
       "    </tr>\n",
       "    <tr>\n",
       "      <th>1</th>\n",
       "      <td>[0.056698862463235855, 0.062439583241939545, -...</td>\n",
       "      <td>2203.01017v2</td>\n",
       "      <td>Ahmed Nassar, Nikolaos Livathinos, Maksym Lysa...</td>\n",
       "      <td>0.406184</td>\n",
       "    </tr>\n",
       "    <tr>\n",
       "      <th>2</th>\n",
       "      <td>[0.056698862463235855, 0.062439583241939545, -...</td>\n",
       "      <td>2305.03393v1</td>\n",
       "      <td>Optimized Table Tokenization for Table Structu...</td>\n",
       "      <td>0.371177</td>\n",
       "    </tr>\n",
       "  </tbody>\n",
       "</table>\n",
       "</div>"
      ],
      "text/plain": [
       "                                              vector     file_name  \\\n",
       "0  [0.056698862463235855, 0.062439583241939545, -...  2305.03393v1   \n",
       "1  [0.056698862463235855, 0.062439583241939545, -...  2203.01017v2   \n",
       "2  [0.056698862463235855, 0.062439583241939545, -...  2305.03393v1   \n",
       "\n",
       "                                  raw_chunk_markdown  distance  \n",
       "0  References\\n- 8. Livathinos, N., Berrospi, C.,...  0.419530  \n",
       "1  Ahmed Nassar, Nikolaos Livathinos, Maksym Lysa...  0.406184  \n",
       "2  Optimized Table Tokenization for Table Structu...  0.371177  "
      ]
     },
     "execution_count": 8,
     "metadata": {},
     "output_type": "execute_result"
    }
   ],
   "source": [
    "context_data[['vector', 'file_name', 'raw_chunk_markdown', 'distance']]"
   ]
  },
  {
   "cell_type": "code",
   "execution_count": 24,
   "id": "af30fab7",
   "metadata": {},
   "outputs": [
    {
     "data": {
      "text/plain": [
       "True"
      ]
     },
     "execution_count": 24,
     "metadata": {},
     "output_type": "execute_result"
    }
   ],
   "source": [
    "import os\n",
    "from dotenv import load_dotenv\n",
    "from openai import OpenAI\n",
    "\n",
    "load_dotenv()"
   ]
  },
  {
   "cell_type": "code",
   "execution_count": 25,
   "id": "c2a556c4",
   "metadata": {},
   "outputs": [],
   "source": [
    "client = OpenAI(\n",
    "    api_key=os.environ.get(\"OPENAI_API_KEY\"),\n",
    ")"
   ]
  },
  {
   "cell_type": "code",
   "execution_count": 27,
   "id": "84f824b6",
   "metadata": {},
   "outputs": [],
   "source": [
    "def format_documents(context_df):\n",
    "    \n",
    "    output_context = \"\"\n",
    "    \n",
    "    # Remove duplicates based on 'chunk_id' (ensuring unique document chunks)\n",
    "    unique_documents = context_df.drop_duplicates(subset=[\"chunk_id\"])[\"raw_chunk_markdown\"]\n",
    "    \n",
    "    # Format each document\n",
    "    for i, document_text in enumerate(unique_documents):\n",
    "        output_context += f\"****START DOCUMENT {i}****\\n\"\n",
    "        output_context += f\"document = {{ {document_text.strip()} }}\\n\"\n",
    "        output_context += f\"****END DOCUMENT {i}****\\n\\n\"\n",
    "    \n",
    "    return output_context.strip()"
   ]
  },
  {
   "cell_type": "code",
   "execution_count": 38,
   "id": "e128d6f2",
   "metadata": {},
   "outputs": [],
   "source": [
    "RAG_CONTEXT = format_documents(context_data)"
   ]
  },
  {
   "cell_type": "code",
   "execution_count": 39,
   "id": "b7d68315",
   "metadata": {},
   "outputs": [
    {
     "name": "stdout",
     "output_type": "stream",
     "text": [
      "****START DOCUMENT 0****\n",
      "document = { References\n",
      "- 8. Livathinos, N., Berrospi, C., Lysak, M., Kuropiatnyk, V., Nassar, A., Carvalho, A., Dolfi, M., Auer, C., }\n",
      "****END DOCUMENT 0****\n",
      "\n",
      "****START DOCUMENT 1****\n",
      "document = { Ahmed Nassar, Nikolaos Livathinos, Maksym Lysak, Peter Staar IBM Research\n",
      "{ ahn,nli,mly,taa } @zurich.ibm.com }\n",
      "****END DOCUMENT 1****\n",
      "\n",
      "****START DOCUMENT 2****\n",
      "document = { Optimized Table Tokenization for Table Structure Recognition\n",
      "Maksym Lysak [0000 - 0002 - 3723 - 6960] , Ahmed Nassar [0000 - 0002 - 9468 - 0822] , Nikolaos Livathinos [0000 - 0001 - 8513 - }\n",
      "****END DOCUMENT 2****\n"
     ]
    }
   ],
   "source": [
    "print(RAG_CONTEXT)"
   ]
  },
  {
   "cell_type": "code",
   "execution_count": 40,
   "id": "8b652cc7",
   "metadata": {},
   "outputs": [],
   "source": [
    "FULL_PROMPT = f\"\"\"\n",
    "You are an assistant for answering questions about a series of documents. You will be provided documentation from different documents. Provide a conversational answer.\n",
    "If you don't know the answer, just say \"I do not know.\" Don't make up an answer.\n",
    "\n",
    "Here are document(s) you should use when answer the users question:\n",
    "{RAG_CONTEXT}\n",
    "\"\"\""
   ]
  },
  {
   "cell_type": "code",
   "execution_count": 41,
   "id": "1803f4d0",
   "metadata": {},
   "outputs": [
    {
     "name": "stdout",
     "output_type": "stream",
     "text": [
      "Ahmed Nassar is one of the authors associated with research conducted at IBM. He is mentioned alongside Nikolaos Livathinos and Maksym Lysak in the context of their work on optimized table tokenization for table structure recognition.\n"
     ]
    }
   ],
   "source": [
    "response = client.chat.completions.create(\n",
    "    model=\"gpt-4o-mini\",\n",
    "    messages=[\n",
    "        {\"role\": \"system\", \"content\": FULL_PROMPT},\n",
    "        {\"role\": \"user\", \"content\": query_text}\n",
    "    ],\n",
    ")\n",
    "\n",
    "print('\\n'.join([c.message.content for c in response.choices]))"
   ]
  }
 ],
 "metadata": {
  "kernelspec": {
   "display_name": ".venv",
   "language": "python",
   "name": "python3"
  },
  "language_info": {
   "codemirror_mode": {
    "name": "ipython",
    "version": 3
   },
   "file_extension": ".py",
   "mimetype": "text/x-python",
   "name": "python",
   "nbconvert_exporter": "python",
   "pygments_lexer": "ipython3",
   "version": "3.11.13"
  }
 },
 "nbformat": 4,
 "nbformat_minor": 5
}
